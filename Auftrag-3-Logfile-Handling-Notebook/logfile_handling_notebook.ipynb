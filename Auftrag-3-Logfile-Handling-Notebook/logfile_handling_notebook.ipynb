{
 "cells": [
  {
   "cell_type": "markdown",
   "metadata": {},
   "source": [
    "# Handout: Logfile Handling mit Python\n",
    "\n",
    "## Einführung\n",
    "\n",
    "Sicherheitsprotokolle (Logs) werden oft in Textdateien gespeichert. Um diese Protokolle zu analysieren, müssen Security-Analysten die Dateien importieren und parsen. Python bietet einige nützliche Funktionen für diese Aufgaben, die es den Analysten ermöglichen, effizient auf Informationen aus Textdateien zuzugreifen.\n",
    "\n",
    "In diesem Labor übst du, wie man Funktionen und Syntax in Python verwendet, um Textdateien zu importieren und zu parsen.\n",
    "\n",
    "Bevor du loslegst, stelle bitte sicher, dass du die Datei login.txt auf den ursprünglichen Inhalt zurücksetzt, indem du den folgenden Code ausführst:\n",
    "\n",
    "## Szenario\n",
    "\n",
    "In diesem Labor arbeitest du als Security-Analyst. Deine Aufgabe ist es, eine Sicherheitsprotokolldatei für die Analyse vorzubereiten und eine Textdatei mit IP-Adressen zu erstellen, die Zugriff auf eingeschränkte Informationen erhalten dürfen."
   ]
  },
  {
   "cell_type": "code",
   "metadata": {
    "ExecuteTime": {
     "end_time": "2025-08-29T06:45:32.695418Z",
     "start_time": "2025-08-29T06:45:32.680572Z"
    }
   },
   "source": [
    "# Setzt die Datei `\"login.txt\"` auf ihren ursprünglichen Inhalt zurück\n",
    "\n",
    "login_file = \"\"\"username,ip_address,time,date\n",
    "tshah,192.168.92.147,15:26:08,2022-05-10\n",
    "dtanaka,192.168.98.221,9:45:18,2022-05-09\n",
    "tmitchel,192.168.110.131,14:13:41,2022-05-11\n",
    "daquino,192.168.168.144,7:02:35,2022-05-08\n",
    "eraab,192.168.170.243,1:45:14,2022-05-11\n",
    "jlansky,192.168.238.42,1:07:11,2022-05-11\n",
    "acook,192.168.52.90,9:56:48,2022-05-10\n",
    "asundara,192.168.58.217,23:17:52,2022-05-12\n",
    "jclark,192.168.214.49,20:49:00,2022-05-10\n",
    "cjackson,192.168.247.153,19:36:42,2022-05-12\n",
    "jclark,192.168.197.247,14:11:04,2022-05-12\n",
    "apatel,192.168.46.207,17:39:42,2022-05-10\n",
    "mabadi,192.168.96.244,10:24:43,2022-05-12\n",
    "iuduike,192.168.131.147,17:50:00,2022-05-11\n",
    "abellmas,192.168.60.111,13:37:05,2022-05-10\n",
    "gesparza,192.168.148.80,6:30:14,2022-05-11\n",
    "cgriffin,192.168.4.157,23:04:05,2022-05-09\n",
    "alevitsk,192.168.210.228,8:10:43,2022-05-08\n",
    "eraab,192.168.24.12,11:29:27,2022-05-11\n",
    "jsoto,192.168.25.60,5:09:21,2022-05-09\n",
    "\"\"\"\n",
    "with open(\"login.txt\", \"w\") as file:\n",
    "    file.write(login_file)"
   ],
   "outputs": [],
   "execution_count": 4
  },
  {
   "cell_type": "markdown",
   "metadata": {},
   "source": [
    "## Aufgabe 1\n",
    "\n",
    "In dieser Aufgabe importierst du eine Sicherheitsprotokoll-Textdatei und speicherst sie als Zeichenkette, um sie für die Analyse vorzubereiten.\n",
    "\n",
    "Verwende eine with-Anweisung, um eine Datei zu öffnen und sie nach dem Lesen automatisch zu schliessen.\n",
    "\n",
    "Dir wird eine Variable namens import_file gegeben, die den Namen der Protokolldatei enthält, die du importieren möchtest. Beginne damit, die erste Zeile der with-Anweisung im folgenden Codeblock zu schreiben. Nutze die Funktion open() und setze den zweiten Parameter auf \"r\". Beachte, dass dieser Code einen Fehler produziert, da er nur die erste Zeile der with-Anweisung enthält; du wirst diese with-Anweisung in der nächsten Aufgabe vervollständigen."
   ]
  },
  {
   "cell_type": "code",
   "metadata": {
    "ExecuteTime": {
     "end_time": "2025-08-29T06:15:06.657456Z",
     "start_time": "2025-08-29T06:15:06.653452Z"
    }
   },
   "source": [
    "# Weise `import_file` den Namen der Textdatei zu, die die Sicherheitsprotokolldatei enthält\n",
    "import_file = \"login.txt\"\n",
    "\n",
    "# Erste Zeile der `with`-Anweisung\n",
    "# Benutze `open()`, um die Sicherheitsprotokolldatei zu importieren und als String zu speichern\n",
    "with open(import_file, \"r\") as file:"
   ],
   "outputs": [
    {
     "ename": "_IncompleteInputError",
     "evalue": "incomplete input (3286456706.py, line 6)",
     "output_type": "error",
     "traceback": [
      "  \u001B[36mCell\u001B[39m\u001B[36m \u001B[39m\u001B[32mIn[2]\u001B[39m\u001B[32m, line 6\u001B[39m\n\u001B[31m    \u001B[39m\u001B[31mwith open(import_file, \"r\") as file:\u001B[39m\n                                        ^\n\u001B[31m_IncompleteInputError\u001B[39m\u001B[31m:\u001B[39m incomplete input\n"
     ]
    }
   ],
   "execution_count": 2
  },
  {
   "cell_type": "markdown",
   "metadata": {},
   "source": [
    "## Aufgabe 2\n",
    "\n",
    "Jetzt wirst du die Methode .read() verwenden, um die importierte Datei zu lesen und das Ergebnis in einer Variable namens text zu speichern. Danach zeige den Inhalt von text an und erkunde, was er enthält, indem du die Zelle ausführst."
   ]
  },
  {
   "cell_type": "code",
   "metadata": {
    "ExecuteTime": {
     "end_time": "2025-08-29T06:16:57.466188Z",
     "start_time": "2025-08-29T06:16:57.461872Z"
    }
   },
   "source": [
    "# Weise `import_file` den Namen der Textdatei zu, die die Sicherheitsprotokolldatei enthält\n",
    "import_file = \"login.txt\"\n",
    "\n",
    "# Die `with`-Anweisung\n",
    "# Benutze `open()`, um die Sicherheitsprotokolldatei zu importieren und als String zu speichern\n",
    "with open(import_file, \"r\") as file:\n",
    "\n",
    "    # Benutze `.read()`, um die importierte Datei zu lesen und das Ergebnis in einer Variable namens `text` zu speichern\n",
    "    text = file.read()\n",
    "\n",
    "    # Zeige den Inhalt von `text` an\n",
    "    print(text)"
   ],
   "outputs": [
    {
     "name": "stdout",
     "output_type": "stream",
     "text": [
      "username,ip_address,time,date\n",
      "tshah,192.168.92.147,15:26:08,2022-05-10\n",
      "dtanaka,192.168.98.221,9:45:18,2022-05-09\n",
      "tmitchel,192.168.110.131,14:13:41,2022-05-11\n",
      "daquino,192.168.168.144,7:02:35,2022-05-08\n",
      "eraab,192.168.170.243,1:45:14,2022-05-11\n",
      "jlansky,192.168.238.42,1:07:11,2022-05-11\n",
      "acook,192.168.52.90,9:56:48,2022-05-10\n",
      "asundara,192.168.58.217,23:17:52,2022-05-12\n",
      "jclark,192.168.214.49,20:49:00,2022-05-10\n",
      "cjackson,192.168.247.153,19:36:42,2022-05-12\n",
      "jclark,192.168.197.247,14:11:04,2022-05-12\n",
      "apatel,192.168.46.207,17:39:42,2022-05-10\n",
      "mabadi,192.168.96.244,10:24:43,2022-05-12\n",
      "iuduike,192.168.131.147,17:50:00,2022-05-11\n",
      "abellmas,192.168.60.111,13:37:05,2022-05-10\n",
      "gesparza,192.168.148.80,6:30:14,2022-05-11\n",
      "cgriffin,192.168.4.157,23:04:05,2022-05-09\n",
      "alevitsk,192.168.210.228,8:10:43,2022-05-08\n",
      "eraab,192.168.24.12,11:29:27,2022-05-11\n",
      "jsoto,192.168.25.60,5:09:21,2022-05-09\n",
      "\n"
     ]
    }
   ],
   "execution_count": 3
  },
  {
   "cell_type": "markdown",
   "metadata": {},
   "source": [
    "## Aufgabe 3\n",
    "\n",
    "Der Output aus dem vorherigen Schritt ist eine grosse Zeichenkette. In dieser Aufgabe wirst du erforschen, wie du diese Zeichenkette, die die gesamte importierte Protokolldatei enthält, in eine Liste von Zeichenketten aufteilen kannst – eine Zeichenkette pro Zeile.\n",
    "\n",
    "Verwende die Methode .split(), um diese Aufteilung vorzunehmen, und zeige das Ergebnis an."
   ]
  },
  {
   "cell_type": "code",
   "metadata": {
    "ExecuteTime": {
     "end_time": "2025-08-29T06:26:35.707372Z",
     "start_time": "2025-08-29T06:26:35.704065Z"
    }
   },
   "source": [
    "# Weise `import_file` den Namen der Textdatei zu, die die Sicherheitsprotokolldatei enthält\n",
    "import_file = \"login.txt\"\n",
    "\n",
    "# Die `with`-Anweisung\n",
    "# Benutze `open()`, um die Sicherheitsprotokolldatei zu importieren und als String zu speichern\n",
    "with open(import_file, \"r\") as file:\n",
    "\n",
    "    # Benutze `.read()`, um die importierte Datei zu lesen und das Ergebnis in einer Variable namens `text` zu speichern\n",
    "    text = file.read()\n",
    "\n",
    "    # Zeige den Inhalt von `text` aufgeteilt in separate Zeilen an\n",
    "    print(text.split(\"\\n\"))"
   ],
   "outputs": [
    {
     "name": "stdout",
     "output_type": "stream",
     "text": [
      "['username,ip_address,time,date', 'tshah,192.168.92.147,15:26:08,2022-05-10', 'dtanaka,192.168.98.221,9:45:18,2022-05-09', 'tmitchel,192.168.110.131,14:13:41,2022-05-11', 'daquino,192.168.168.144,7:02:35,2022-05-08', 'eraab,192.168.170.243,1:45:14,2022-05-11', 'jlansky,192.168.238.42,1:07:11,2022-05-11', 'acook,192.168.52.90,9:56:48,2022-05-10', 'asundara,192.168.58.217,23:17:52,2022-05-12', 'jclark,192.168.214.49,20:49:00,2022-05-10', 'cjackson,192.168.247.153,19:36:42,2022-05-12', 'jclark,192.168.197.247,14:11:04,2022-05-12', 'apatel,192.168.46.207,17:39:42,2022-05-10', 'mabadi,192.168.96.244,10:24:43,2022-05-12', 'iuduike,192.168.131.147,17:50:00,2022-05-11', 'abellmas,192.168.60.111,13:37:05,2022-05-10', 'gesparza,192.168.148.80,6:30:14,2022-05-11', 'cgriffin,192.168.4.157,23:04:05,2022-05-09', 'alevitsk,192.168.210.228,8:10:43,2022-05-08', 'eraab,192.168.24.12,11:29:27,2022-05-11', 'jsoto,192.168.25.60,5:09:21,2022-05-09']\n"
     ]
    }
   ],
   "execution_count": 6
  },
  {
   "cell_type": "markdown",
   "metadata": {},
   "source": [
    "### Frage 1\n",
    "Was fällt dir am Output auf, bevor und nachdem du die Methode .split() verwendet hast?\n",
    "### Antwort 1\n",
    "Bevor die Methode .split() verwendet wurde, wurde ein völlig ungeordneter Output angezeigt, genauso wie es in der Textdatei aussieht. Nach der Anwendung der .split()-Methode wurde alles als Listeelemente angeordnet und gruppiert."
   ]
  },
  {
   "cell_type": "markdown",
   "metadata": {},
   "source": [
    "## Aufgabe 4\n",
    "\n",
    "In der Protokolldatei fehlt ein Eintrag. Du musst diesen Eintrag hinzufügen. Der fehlende Eintrag ist in der Variable missing_entry gespeichert.\n",
    "\n",
    "Verwende die Methode .write() und den Parameter \"a\" in der open()-Funktion.\n",
    "\n",
    "Ersetze jeden ### YOUR CODE HERE ### durch deinen eigenen Code, bevor du die folgende Zelle ausführst.\n",
    "\n",
    "Nach dem Schreiben in die Datei wird eine weitere with-Anweisung verwendet, um die aktualisierte Datei in der Variable text zu lesen und anzuzeigen."
   ]
  },
  {
   "cell_type": "code",
   "metadata": {
    "ExecuteTime": {
     "end_time": "2025-08-29T06:35:45.922567Z",
     "start_time": "2025-08-29T06:35:45.917257Z"
    }
   },
   "source": [
    "# Weise `import_file` den Namen der Textdatei zu, die die Sicherheitsprotokolldatei enthält\n",
    "import_file = \"login.txt\"\n",
    "\n",
    "# Weise `missing_entry` einen Eintrag zu, der nicht in der Protokolldatei aufgezeichnet wurde\n",
    "missing_entry = \"jrafael,192.168.243.140,4:56:27,2022-05-09\"\n",
    "\n",
    "# Benutze `open()`, um die Sicherheitsprotokolldatei zu importieren und als String zu speichern\n",
    "# Übergebe \"a\" als zweiten Parameter, um anzugeben, dass die Datei zum Anhängen geöffnet wird\n",
    "with open(import_file, \"a\") as file:\n",
    "    # Benutze `.write()`, um `missing_entry` an die Protokolldatei anzuhängen\n",
    "    file.write(\"\\n\" + missing_entry)\n",
    "\n",
    "# Benutze `open()` mit dem Parameter \"r\", um die Sicherheitsprotokolldatei zum Lesen zu öffnen\n",
    "with open(import_file, \"r\") as file:\n",
    "\n",
    "    # Benutze `.read()`, um den Inhalt der Protokolldatei zu lesen und in einer Variable namens `text` zu speichern\n",
    "    text = file.read()\n",
    "\n",
    "    # Zeige den Inhalt von `text` an\n",
    "    print(text)"
   ],
   "outputs": [
    {
     "name": "stdout",
     "output_type": "stream",
     "text": [
      "username,ip_address,time,date\n",
      "tshah,192.168.92.147,15:26:08,2022-05-10\n",
      "dtanaka,192.168.98.221,9:45:18,2022-05-09\n",
      "tmitchel,192.168.110.131,14:13:41,2022-05-11\n",
      "daquino,192.168.168.144,7:02:35,2022-05-08\n",
      "eraab,192.168.170.243,1:45:14,2022-05-11\n",
      "jlansky,192.168.238.42,1:07:11,2022-05-11\n",
      "acook,192.168.52.90,9:56:48,2022-05-10\n",
      "asundara,192.168.58.217,23:17:52,2022-05-12\n",
      "jclark,192.168.214.49,20:49:00,2022-05-10\n",
      "cjackson,192.168.247.153,19:36:42,2022-05-12\n",
      "jclark,192.168.197.247,14:11:04,2022-05-12\n",
      "apatel,192.168.46.207,17:39:42,2022-05-10\n",
      "mabadi,192.168.96.244,10:24:43,2022-05-12\n",
      "iuduike,192.168.131.147,17:50:00,2022-05-11\n",
      "abellmas,192.168.60.111,13:37:05,2022-05-10\n",
      "gesparza,192.168.148.80,6:30:14,2022-05-11\n",
      "cgriffin,192.168.4.157,23:04:05,2022-05-09\n",
      "alevitsk,192.168.210.228,8:10:43,2022-05-08\n",
      "eraab,192.168.24.12,11:29:27,2022-05-11\n",
      "jsoto,192.168.25.60,5:09:21,2022-05-09\n",
      "jrafael,192.168.243.140,4:56:27,2022-05-09\n"
     ]
    }
   ],
   "execution_count": 13
  },
  {
   "cell_type": "markdown",
   "metadata": {},
   "source": [
    "### Frage 2\n",
    "Was fällt dir an der Position des hinzugefügten Eintrags in der Protokolldatei auf?\n",
    "### Antwort 2\n",
    "Um den hinzugefügten Eintrag mit einer neuen Zeile zu beginnen, muss in der .write()-Methode neben dem Eintrag selbst auch „\\n” angegeben werden, um eine neue Zeile hinzuzufügen."
   ]
  },
  {
   "cell_type": "markdown",
   "metadata": {},
   "source": [
    "## Aufgabe 5\n",
    "\n",
    "In dieser Aufgabe musst du eine Textdatei erstellen. Diese Datei soll eine Liste von IP-Adressen enthalten, die auf eingeschränkte Informationen zugreifen dürfen. Dies hilft dir, deine Ergebnisse deinem Sicherheitsteam mitzuteilen.\n",
    "\n",
    "Erstelle zunächst eine Variable namens import_file, die den Namen der Datei speichert, der \"allow_list.txt\" sein sollte.\n",
    "\n",
    "Ausserdem wird dir eine Variable namens ip_addresses gegeben, die eine Zeichenkette mit den erlaubten IP-Adressen enthält.\n",
    "\n",
    "Führe den Code aus, um die beiden Variablen anzuzeigen und zu erkunden, was sie enthalten. Ersetze den Platzhalter ### YOUR CODE HERE ### durch deinen eigenen Code, bevor du die folgende Zelle ausführst."
   ]
  },
  {
   "cell_type": "code",
   "metadata": {
    "ExecuteTime": {
     "end_time": "2025-08-29T06:42:01.780136Z",
     "start_time": "2025-08-29T06:42:01.776083Z"
    }
   },
   "source": [
    "# Weist `import_file` den Namen der Textdatei zu, die du erstellen möchtest\n",
    "import_file = \"allow_list.txt\"\n",
    "\n",
    "# Weist `ip_addresses` eine Liste von IP-Adressen zu, die Zugriff auf die eingeschränkten Informationen haben\n",
    "ip_addresses = \"192.168.218.160 192.168.97.225 192.168.145.158 192.168.108.13 192.168.60.153 192.168.96.200 192.168.247.153 192.168.3.252 192.168.116.187 192.168.15.110 192.168.39.246\"\n",
    "\n",
    "# Zeigt `import_file` an\n",
    "print(import_file)\n",
    "\n",
    "# Zeigt `ip_addresses` an\n",
    "print(ip_addresses)"
   ],
   "outputs": [
    {
     "name": "stdout",
     "output_type": "stream",
     "text": [
      "allow_list.txt\n",
      "192.168.218.160 192.168.97.225 192.168.145.158 192.168.108.13 192.168.60.153 192.168.96.200 192.168.247.153 192.168.3.252 192.168.116.187 192.168.15.110 192.168.39.246\n"
     ]
    }
   ],
   "execution_count": 1
  },
  {
   "cell_type": "markdown",
   "metadata": {},
   "source": [
    "## Aufgabe 6\n",
    "\n",
    "In dieser Aufgabe musst du eine with-Anweisung erstellen, um die IP-Adressen in die Textdatei zu schreiben, die du im vorherigen Schritt erstellt hast.\n",
    "\n",
    "Öffne die Datei zunächst mit dem Parameter \"w\". Schreibe dann die IP-Adressen in die Datei.\n",
    "\n",
    "Ersetze jeden ### YOUR CODE HERE ### durch deinen eigenen Code, bevor du die folgende Zelle ausführst. Beachte, dass die Code-Zelle eine with-Anweisung enthält, die in eine Datei schreibt, aber keine Informationen auf dem Bildschirm anzeigt, daher wird beim Ausführen keine Ausgabe angezeigt."
   ]
  },
  {
   "cell_type": "code",
   "metadata": {
    "ExecuteTime": {
     "end_time": "2025-08-29T06:45:55.305707Z",
     "start_time": "2025-08-29T06:45:55.292256Z"
    }
   },
   "source": [
    "# Weist `import_file` den Namen der Textdatei zu, die du erstellen möchtest\n",
    "import_file = \"allow_list.txt\"\n",
    "\n",
    "# Weist `ip_addresses` eine Liste von IP-Adressen zu, die Zugriff auf die eingeschränkten Informationen haben\n",
    "ip_addresses = \"192.168.218.160 192.168.97.225 192.168.145.158 192.168.108.13 192.168.60.153 192.168.96.200 192.168.247.153 192.168.3.252 192.168.116.187 192.168.15.110 192.168.39.246\"\n",
    "\n",
    "# Erstelle eine `with`-Anweisung, um in die Textdatei zu schreiben\n",
    "with open(import_file, \"w\") as file:\n",
    "    # Schreibe `ip_addresses` in die Textdatei\n",
    "    file.write(ip_addresses)"
   ],
   "outputs": [],
   "execution_count": 5
  },
  {
   "cell_type": "markdown",
   "metadata": {},
   "source": [
    "## Aufgabe 7\n",
    "\n",
    "In diesem letzten Schritt vervollständigst du den Code, den du bisher geschrieben hast. Du wirst Code hinzufügen, um die Datei mit den IP-Adressen zu lesen.\n",
    "\n",
    "Vervollständige eine with-Anweisung, die die Textdatei liest und in einer neuen Variablen namens text speichert.\n",
    "\n",
    "Zeige anschliessend den Inhalt von text an und führe die Zelle aus, um das Ergebnis zu erkunden. Ersetze jeden ### YOUR CODE HERE ### durch deinen eigenen Code, bevor du die folgende Zelle ausführst."
   ]
  },
  {
   "cell_type": "code",
   "metadata": {
    "ExecuteTime": {
     "end_time": "2025-08-29T06:49:29.540937Z",
     "start_time": "2025-08-29T06:49:29.533110Z"
    }
   },
   "source": [
    "# Weist `import_file` den Namen der Textdatei zu, die du erstellen möchtest\n",
    "import_file = \"allow_list.txt\"\n",
    "\n",
    "# Weist `ip_addresses` eine Liste von IP-Adressen zu, die Zugriff auf die eingeschränkten Informationen haben\n",
    "ip_addresses = \"192.168.218.160 192.168.97.225 192.168.145.158 192.168.108.13 192.168.60.153 192.168.96.200 192.168.247.153 192.168.3.252 192.168.116.187 192.168.15.110 192.168.39.246\"\n",
    "\n",
    "# Erstelle eine `with`-Anweisung, um in die Textdatei zu schreiben\n",
    "with open(import_file, \"w\") as file:\n",
    "    # Schreibe `ip_addresses` in die Textdatei\n",
    "    file.write(ip_addresses)\n",
    "\n",
    "# Erstelle eine `with`-Anweisung, um die Textdatei zu lesen\n",
    "with open(import_file, \"r\") as file:\n",
    "    # Lese die Datei und speichere das Ergebnis in der Variablen `text`\n",
    "    text = file.read()\n",
    "\n",
    "    # Zeige den Inhalt von `text` an\n",
    "    print(text)"
   ],
   "outputs": [
    {
     "name": "stdout",
     "output_type": "stream",
     "text": [
      "192.168.218.160 192.168.97.225 192.168.145.158 192.168.108.13 192.168.60.153 192.168.96.200 192.168.247.153 192.168.3.252 192.168.116.187 192.168.15.110 192.168.39.246\n"
     ]
    }
   ],
   "execution_count": 6
  },
  {
   "cell_type": "markdown",
   "metadata": {},
   "source": [
    "## Fazit\n",
    "Was sind deine wichtigsten Erkenntnisse aus diesem Auftrag?\n",
    "\n",
    "Die Textdatei muss nicht unbedingt überschrieben werden, wenn zusätzliche Texte in die vorhandene Datei eingefügt werden sollen. Dafür gibt es \"a\" Parameter, der mit der .write() Methode verwendet werden soll.\n",
    "Es ist auch möglich, die importierten Daten vielseitig zu gestalten, beispielsweise in Form einer Liste oder als Zeichenkette mit Abständen."
   ]
  }
 ],
 "metadata": {
  "kernelspec": {
   "display_name": "Python 3",
   "language": "python",
   "name": "python3"
  },
  "language_info": {
   "codemirror_mode": {
    "name": "ipython",
    "version": 3
   },
   "file_extension": ".py",
   "mimetype": "text/x-python",
   "name": "python",
   "nbconvert_exporter": "python",
   "pygments_lexer": "ipython3",
   "version": "3.8.5"
  }
 },
 "nbformat": 4,
 "nbformat_minor": 4
}
