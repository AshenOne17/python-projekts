{
 "cells": [
  {
   "cell_type": "markdown",
   "metadata": {},
   "source": [
    "# Handout: Python Script Debugging\n",
    "\n",
    "## Einführung\n",
    "\n",
    "Eine der grössten Herausforderungen, mit denen Analysten konfrontiert sind, besteht darin, sicherzustellen, dass automatisierte Prozesse reibungslos ablaufen. Debugging ist eine wichtige Praxis, die Security-Analysten in ihre Arbeit einbeziehen, um Fehler im Code zu identifizieren und zu beheben, sodass der Code das gewünschte Ergebnis erzielt.\n",
    "\n",
    "Durch eine Reihe von Aufgaben in diesem Labor wirst du deine Debugging-Fähigkeiten in Python entwickeln und anwenden.\n",
    "\n",
    "## Szenario\n",
    "\n",
    "In deiner Arbeit als Security-Analyst musst du Debugging-Strategien anwenden, um sicherzustellen, dass dein Code ordnungsgemäss funktioniert.\n",
    "\n",
    "Im Verlauf dieses Labors arbeitest du mit Code, den du bereits geschrieben hast, der jedoch nun einige Fehler enthält, die behoben werden müssen. Du musst die Codezellen lesen, ausführen, die Fehler identifizieren und den Code anpassen, um die Fehler zu beheben."
   ]
  },
  {
   "cell_type": "markdown",
   "metadata": {},
   "source": [
    "## Aufgabe 1\n",
    "\n",
    "Die folgende Codezelle enthält einen Syntaxfehler. In dieser Aufgabe wirst du den Code ausführen, herausfinden, warum der Fehler auftritt, und den Code so ändern, dass er behoben wird. (Um sicherzustellen, dass der Fehler behoben wurde, führe den Code erneut aus, um zu überprüfen, ob er jetzt ordnungsgemäss funktioniert.)"
   ]
  },
  {
   "cell_type": "code",
   "metadata": {
    "ExecuteTime": {
     "end_time": "2025-08-28T11:17:18.864676Z",
     "start_time": "2025-08-28T11:17:18.861479Z"
    }
   },
   "source": [
    "# Eine For-Schleife, die über eine Reihe von Zahlen iteriert\n",
    "# und bei jeder Iteration eine Nachricht anzeigt\n",
    "for i in range(10):\n",
    "    print(\"Verbindung kann nicht hergestellt werden\")"
   ],
   "outputs": [
    {
     "name": "stdout",
     "output_type": "stream",
     "text": [
      "Verbindung kann nicht hergestellt werden\n",
      "Verbindung kann nicht hergestellt werden\n",
      "Verbindung kann nicht hergestellt werden\n",
      "Verbindung kann nicht hergestellt werden\n",
      "Verbindung kann nicht hergestellt werden\n",
      "Verbindung kann nicht hergestellt werden\n",
      "Verbindung kann nicht hergestellt werden\n",
      "Verbindung kann nicht hergestellt werden\n",
      "Verbindung kann nicht hergestellt werden\n",
      "Verbindung kann nicht hergestellt werden\n"
     ]
    }
   ],
   "execution_count": 3
  },
  {
   "cell_type": "markdown",
   "metadata": {},
   "source": [
    "### Frage 1\n",
    "Was passiert, wenn du den Code vor der Änderung ausführst? Wie kannst du das beheben?\n",
    "\n",
    "### Antwort 1\n",
    "Es wird einen Syntaxfehler geben, der nach dem Doppelpunkt am Ende der for-Schleifen-Deklarierung nachfragen würde.\n",
    "Behebung: Doppelpunkt nach den Klammern setzen."
   ]
  },
  {
   "cell_type": "markdown",
   "metadata": {},
   "source": [
    "## Aufgabe 2\n",
    "\n",
    "In der folgenden Codezelle erhältst du eine Liste von Benutzernamen. Es gibt ein Problem mit der Syntax. In dieser Aufgabe wirst du die Zelle ausführen, beobachten, was passiert, und den Code ändern, um das Problem zu beheben."
   ]
  },
  {
   "cell_type": "code",
   "metadata": {
    "ExecuteTime": {
     "end_time": "2025-08-28T11:17:20.769416Z",
     "start_time": "2025-08-28T11:17:20.764199Z"
    }
   },
   "source": [
    "# Weist `usernames_list` eine Liste von Benutzernamen zu\n",
    "usernames_list = [\"djames\", \"jpark\", \"tbailey\", \"zdutchma\", \"esmith\", \"srobinso\", \"dcoleman\", \"fbautist\"]\n",
    "\n",
    "# Zeigt `usernames_list` an\n",
    "print(usernames_list)"
   ],
   "outputs": [
    {
     "name": "stdout",
     "output_type": "stream",
     "text": [
      "['djames', 'jpark', 'tbailey', 'zdutchma', 'esmith', 'srobinso', 'dcoleman', 'fbautist']\n"
     ]
    }
   ],
   "execution_count": 4
  },
  {
   "cell_type": "markdown",
   "metadata": {},
   "source": [
    "### Frage 2\n",
    "Was passiert, wenn du den Code vor der Änderung ausführst? Wie kannst du das beheben?\n",
    "\n",
    "### Antwort 2\n",
    "Es wird ein Syntaxfehler auftreten, der nach einem „unterminated string literal” fragt. Um den Fehler zu beheben, muss nach dem Namen „zdutchma” ein Anführungszeichen hinzugefügt werden, um das Listelement zu schließen, und ein Komma, um die beiden Elemente richtig zu trennen."
   ]
  },
  {
   "cell_type": "markdown",
   "metadata": {},
   "source": [
    "## Aufgabe 3\n",
    "\n",
    "In der folgenden Codezelle gibt es einen Syntaxfehler. Deine Aufgabe ist es, die Zelle auszuführen, herauszufinden, was den Fehler verursacht, und ihn zu beheben."
   ]
  },
  {
   "cell_type": "code",
   "metadata": {
    "ExecuteTime": {
     "end_time": "2025-08-28T11:17:23.301586Z",
     "start_time": "2025-08-28T11:17:23.298544Z"
    }
   },
   "source": [
    "# Zeigt eine Nachricht in Grossbuchstaben an\n",
    "print(\"update erforderlich\".upper())"
   ],
   "outputs": [
    {
     "name": "stdout",
     "output_type": "stream",
     "text": [
      "UPDATE ERFORDERLICH\n"
     ]
    }
   ],
   "execution_count": 5
  },
  {
   "cell_type": "markdown",
   "metadata": {},
   "source": [
    "### Frage 3\n",
    "Was passiert, wenn du den Code vor der Änderung ausführst? Was verursacht den Syntaxfehler? Wie kannst du das beheben?\n",
    "\n",
    "### Antwort 3\n",
    "Es wird der Syntaxfehler „'(\" was never closed” auftreten. Um den Fehler zu beheben, muss noch eine Klammer hinzugefügt werden, um die print()-Funktionen zu schließen."
   ]
  },
  {
   "cell_type": "markdown",
   "metadata": {},
   "source": [
    "## Aufgabe 4\n",
    "\n",
    "In der folgenden Codezelle erhältst du eine usernames_list, einen username und einen Code, der bestimmt, ob der Benutzername genehmigt ist. Es gibt zwei Syntaxfehler und eine Ausnahme. Deine Aufgabe ist es, sie zu finden und den Code zu beheben. Eine hilfreiche Debugging-Strategie besteht darin, sich jeweils auf einen Fehler zu konzentrieren und den Code nach der Behebung jedes Fehlers auszuführen."
   ]
  },
  {
   "cell_type": "code",
   "metadata": {
    "ExecuteTime": {
     "end_time": "2025-08-28T11:17:25.344278Z",
     "start_time": "2025-08-28T11:17:25.341007Z"
    }
   },
   "source": [
    "# Weist `usernames_list` eine Liste von Benutzernamen zu, die genehmigte Benutzer darstellen\n",
    "usernames_list = [\"djames\", \"jpark\", \"tbailey\", \"zdutchma\", \"esmith\", \"srobinso\", \"dcoleman\", \"fbautist\"]\n",
    "\n",
    "# Weist `username` einen bestimmten Benutzernamen zu\n",
    "username = \"esmith\"\n",
    "\n",
    "# For-Schleife, die über die Elemente von `usernames_list` iteriert und bestimmt, ob jedes Element einem genehmigten Benutzer entspricht\n",
    "for name in usernames_list:\n",
    "\n",
    "    # Überprüft, ob `name` mit `username` übereinstimmt\n",
    "    # Wenn es übereinstimmt, wird entsprechend eine Nachricht angezeigt\n",
    "    if name == username:\n",
    "        print(\"Der Benutzer ist ein genehmigter Benutzer\")"
   ],
   "outputs": [
    {
     "name": "stdout",
     "output_type": "stream",
     "text": [
      "Der Benutzer ist ein genehmigter Benutzer\n"
     ]
    }
   ],
   "execution_count": 6
  },
  {
   "cell_type": "markdown",
   "metadata": {},
   "source": [
    "### Frage 4\n",
    "Was passiert, wenn du den Code vor der Änderung ausführst? Was verursacht die Fehler? Wie kannst du sie beheben?\n",
    "\n",
    "### Antwort 4\n",
    "Es werden zwei Fehler angezeigt: ein Syntaxfehler und ein Namensfehler. Der Syntaxfehler befindet sich in der Zeile „if name=username:”, in der statt einer Vergleichung eine Zuweisung erfolgt (das Zeichen „=“ wurde statt „==“ verwendet). Der Namensfehler befindet sich in der Deklaration der for-Schleife, wo der Name der „usernames_liste” mit einem Schreibfehler geschrieben wurde („username_liste” anstatt „usernames_liste”). Behebung: Vergleichung (==) anstatt Zuweisung (=) schreiben und den Namen der Liste richtig schreiben."
   ]
  },
  {
   "cell_type": "markdown",
   "metadata": {},
   "source": [
    "## Aufgabe 5\n",
    "\n",
    "In dieser Aufgabe wirst du den folgenden Code untersuchen und den Fehler identifizieren, der auftritt. Anschliessend passt du den Code an, um den Fehler zu beheben."
   ]
  },
  {
   "cell_type": "code",
   "metadata": {
    "ExecuteTime": {
     "end_time": "2025-08-28T11:17:27.986128Z",
     "start_time": "2025-08-28T11:17:27.982816Z"
    }
   },
   "source": [
    "# Weist `usernames_list` eine Liste von Benutzernamen zu\n",
    "usernames_list = [\"elarson\", \"bmoreno\", \"tshah\", \"sgilmore\", \"eraab\"]\n",
    "\n",
    "# Weist `username` einen bestimmten Benutzernamen zu\n",
    "username = \"eraab\"\n",
    "\n",
    "# Bestimmt, ob `username` der letzte Benutzername in `usernames_list` ist\n",
    "# Wenn ja, wird entsprechend eine Nachricht angezeigt\n",
    "if username == usernames_list[4]:\n",
    "    print(\"Dieser Benutzername ist der letzte in der Liste.\")"
   ],
   "outputs": [
    {
     "name": "stdout",
     "output_type": "stream",
     "text": [
      "Dieser Benutzername ist der letzte in der Liste.\n"
     ]
    }
   ],
   "execution_count": 7
  },
  {
   "cell_type": "markdown",
   "metadata": {},
   "source": [
    "### Frage 5\n",
    "Was passiert, wenn du den Code vor der Änderung ausführst? Um welche Art von Fehler handelt es sich? Wie kannst du ihn beheben?\n",
    "\n",
    "### Antwort 5\n",
    "Es wird ein Indexfehler angezeigt. Die Liste hat 5 Elemente([0], [1], [2], [3], [4]), und es wurde Element[5] aufgerufen, der in der Liste nicht existiert. Behebung: um den letzten Element in dex Liste aufzurufen, muss der Index von [5] auf [4] gewechselt."
   ]
  },
  {
   "cell_type": "markdown",
   "metadata": {},
   "source": [
    "## Aufgabe 6\n",
    "\n",
    "In dieser Aufgabe wirst du den folgenden Code untersuchen. Der Code importiert eine Textdatei nach Python, liest deren Inhalt und speichert den Inhalt als Liste in einer Variablen namens ip_addresses. Anschliessend werden Elemente aus ip_addresses entfernt, wenn sie in der remove_list enthalten sind. Es gibt zwei Fehler im Code: Zuerst ein Syntaxfehler und dann eine Ausnahme, die mit einer String-Methode zusammenhängt. Dein Ziel ist es, diese Fehler zu finden und zu beheben."
   ]
  },
  {
   "cell_type": "code",
   "metadata": {
    "ExecuteTime": {
     "end_time": "2025-08-28T11:17:29.962934Z",
     "start_time": "2025-08-28T11:17:29.959918Z"
    }
   },
   "source": [
    "# Weist `import_file` den Namen der Textdatei zu\n",
    "import_file = \"allow_list.txt\"\n",
    "\n",
    "# Weist `remove_list` eine Liste von IP-Adressen zu, die keinen Zugriff mehr auf das Netzwerk haben\n",
    "remove_list = [\"192.168.97.225\", \"192.168.158.170\", \"192.168.201.40\", \"192.168.58.57\"]\n",
    "\n",
    "# With-Anweisung, die die Textdatei liest und deren Inhalt als Liste in `ip_addresses` speichert\n",
    "with open(import_file, \"r\") as file:\n",
    "    ip_addresses = file.read()\n",
    "\n",
    "# Konvertiert `ip_addresses` von einem String in eine Liste\n",
    "ip_addresses = ip_addresses.split(\",\")\n",
    "\n",
    "# For-Schleife, die über die Elemente in `remove_list` iteriert,\n",
    "# überprüft, ob jedes Element in `ip_addresses` enthalten ist,\n",
    "# und jedes Element entfernt, das einer IP-Adresse entspricht, die keinen Zugriff mehr hat\n",
    "for element in remove_list:\n",
    "    if element in ip_addresses:\n",
    "        ip_addresses.remove(element)\n",
    "\n",
    "# Zeigt `ip_addresses` nach dem Entfernen an\n",
    "print(ip_addresses)"
   ],
   "outputs": [
    {
     "name": "stdout",
     "output_type": "stream",
     "text": [
      "['192.168.101.24', '192.168.24.290', '192.168.50.50']\n"
     ]
    }
   ],
   "execution_count": 8
  },
  {
   "cell_type": "markdown",
   "metadata": {},
   "source": [
    "### Frage 6\n",
    "Was passiert, wenn du den Code vor der Änderung ausführst? Was verursacht die Fehler? Wie kannst du sie beheben?\n",
    "### Antwort 6\n",
    "Zunächst erscheint die Fehlermeldung „nonexistent file”. Dafür muss man im Voraus eine \"allow_list.txt\"-Datei erstellen, die das Python-Programm einlesen kann. In dieser Datei müssen alle benötigten IP-Adressen mit einem Trennzeichen getrennt aufgeführt sein. Danach kommt ein anderer Syntaxfehler bei .split(). Um diesen zu beheben, muss eine Datei mit dem gültigen Inhalt erstellt werden. Die .split()-Funktion muss zusätzlich am Ende der Variable mit den richtigen Parametern (Trennzeichen in den Anführungszeichen) geschrieben werden und nicht vor der Variable ohne Parameter."
   ]
  },
  {
   "cell_type": "markdown",
   "metadata": {},
   "source": [
    "## Aufgabe 7\n",
    "\n",
    "In dieser letzten Aufgabe gibt es drei Betriebssysteme: OS 1, OS 2 und OS 3. Jedes Betriebssystem benötigt einen Sicherheitspatch bis zu einem bestimmten Datum. Das Patch-Datum für OS 1 ist der \"1. März\", das Patch-Datum für OS 2 ist der \"1. April\" und das Patch-Datum für OS 3 ist der \"1. Mai\".\n",
    "\n",
    "Der folgende Code speichert eines dieser Betriebssysteme in einer Variablen namens system. Anschliessend verwendet er bedingte Anweisungen, um das Patch-Datum für dieses Betriebssystem anzuzeigen.\n",
    "\n",
    "Dieser Code enthält jedoch logische Fehler. Dein Ziel ist es, die Variable system auf verschiedene Werte zu setzen, den Code auszuführen, die Ausgabe zu überprüfen, den Fehler zu identifizieren und ihn zu beheben."
   ]
  },
  {
   "cell_type": "code",
   "metadata": {
    "ExecuteTime": {
     "end_time": "2025-08-28T11:19:44.512874Z",
     "start_time": "2025-08-28T11:19:44.509918Z"
    }
   },
   "source": [
    "# Weist `system` ein bestimmtes Betriebssystem als String zu\n",
    "system = \"OS 2\"\n",
    "\n",
    "# Weist `patch_schedule` eine Liste von Patch-Daten in der Reihenfolge der Betriebssysteme zu\n",
    "patch_schedule = [\"1. März\", \"1. April\", \"1. Mai\"]\n",
    "\n",
    "# Bedingte Anweisung, die überprüft, welches Betriebssystem in `system` gespeichert ist, und eine Nachricht anzeigt, die das entsprechende Patch-Datum zeigt\n",
    "if system == \"OS 1\":\n",
    "    print(\"Patch-Datum:\", patch_schedule[0])\n",
    "\n",
    "elif system == \"OS 2\":\n",
    "    print(\"Patch-Datum:\", patch_schedule[1])\n",
    "\n",
    "elif system == \"OS 3\":\n",
    "    print(\"Patch-Datum:\", patch_schedule[2])"
   ],
   "outputs": [
    {
     "name": "stdout",
     "output_type": "stream",
     "text": [
      "Patch-Datum: 1. April\n"
     ]
    }
   ],
   "execution_count": 14
  },
  {
   "cell_type": "markdown",
   "metadata": {},
   "source": [
    "### Frage 7\n",
    "Was passiert, wenn du den Code vor der Änderung ausführst? Was verursacht die logischen Fehler? Wie kannst du sie beheben?\n",
    "### Antwort 7\n",
    "Obwohl es keinen Fehler gibt, wird bei der Codeausführung das falsche Datum angezeigt. Genau deswegen ist es ein Logikfehler und kein Syntax- oder Laufzeitfehler, der durch Debugging herausgefunden werden kann. Logische Fehler werden im Prinzip durch unsinnigen Code verursacht. Dazu gehören z. B. falsche Schleifen, die Reihenfolge der Anweisungen usw. In diesem Fall wurde sowohl in „if” als auch im zweiten „elif” der gleiche Index der „patch-schedule”-Liste angewendet, aber auch das falsche Index im ersten „elif”. Behebung: Die Reihenfolge bei der Betriebssystemüberprüfung muss richtig geschrieben werden ( [0], [1], [2] anstatt [2], [0], [2])."
   ]
  },
  {
   "cell_type": "markdown",
   "metadata": {},
   "source": [
    "## Fazit\n",
    "\n",
    "Was sind deine wichtigsten Erkenntnisse aus diesem Labor?\n",
    "\n",
    "Um herauszufinden, welche Massnahmen ergriffen werden sollen, ist es wichtig, die Fehlerbeschreibungen genau zu lesen. Die Fehler können auch sehr trivial sein, aber den gesamten Code einschränken. Der Code soll stets eine saubere Syntax aufweisen, um Fehler leichter finden zu können."
   ]
  }
 ],
 "metadata": {
  "kernelspec": {
   "display_name": "Python 3",
   "language": "python",
   "name": "python3"
  },
  "language_info": {
   "codemirror_mode": {
    "name": "ipython",
    "version": 3
   },
   "file_extension": ".py",
   "mimetype": "text/x-python",
   "name": "python",
   "nbconvert_exporter": "python",
   "pygments_lexer": "ipython3",
   "version": "3.8.5"
  }
 },
 "nbformat": 4,
 "nbformat_minor": 4
}
