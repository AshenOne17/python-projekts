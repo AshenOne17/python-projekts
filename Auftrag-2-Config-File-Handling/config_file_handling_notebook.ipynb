{
 "cells": [
  {
   "cell_type": "markdown",
   "metadata": {},
   "source": [
    "# Handout: Konfiguration-File Handling mit Python\n",
    "\n",
    "## Einführung\n",
    "\n",
    "Ein wichtiger Teil der Cybersicherheit ist die Kontrolle des Zugriffs auf eingeschränkte Inhalte. In diesem Labor arbeitest du mit einer Textdatei, die IP-Adressen enthält, die Zugriff auf bestimmte eingeschränkte Inhalte in deiner Organisation haben.\n",
    "\n",
    "Das Parsen einer Datei ermöglicht es Sicherheitsanalysten, den Inhalt zu lesen und zu aktualisieren. Python hilft Analysten, Algorithmen zu entwickeln, um den Prozess des Parsens von Dateien zu automatisieren und diese aktuell zu halten.\n",
    "\n",
    "Du wirst einen Algorithmus entwickeln, der diese Textdatei mit IP-Adressen parst und die Datei aktualisiert, indem er Adressen entfernt, die keinen Zugriff mehr auf die eingeschränkten Inhalte haben.\n",
    "\n",
    "## Szenario\n",
    "\n",
    "In diesem Labor arbeitest du als Sicherheitsanalyst und bist dafür verantwortlich, einen Algorithmus zu entwickeln, der eine Datei mit IP-Adressen parst, die Zugriff auf eingeschränkte Inhalte haben, und Adressen entfernt, die keinen Zugriff mehr haben."
   ],
   "id": "bb2f7edb16fe5366"
  },
  {
   "cell_type": "markdown",
   "metadata": {},
   "source": [
    "## Aufgabe 1\n",
    "\n",
    "Dein letztendliches Ziel ist es, einen Algorithmus zu entwickeln, der eine Reihe von IP-Adressen parst, die auf eingeschränkte Informationen zugreifen können, und die Adressen entfernt, die nicht mehr erlaubt sind. Python kann diesen Prozess automatisieren.\n",
    "\n",
    "Dir wird eine Textdatei namens \"allow_list.txt\" gegeben, die eine Reihe von IP-Adressen enthält, die Zugriff auf eingeschränkte Informationen haben.\n",
    "\n",
    "Es gibt IP-Adressen, die keinen Zugriff mehr auf diese Informationen haben sollten, und ihre IP-Adressen müssen aus der Textdatei entfernt werden. Dir wird eine Variable namens remove_list gegeben, die die Liste der zu entfernenden IP-Adressen enthält.\n",
    "\n",
    "Zeige beide Variablen an, um ihren Inhalt zu erkunden, und führe die Zelle aus. Achte darauf, jede ### YOUR CODE HERE ### durch deinen eigenen Code zu ersetzen, bevor du die folgende Zelle ausführst."
   ],
   "id": "572aaa1a9460b9e8"
  },
  {
   "cell_type": "code",
   "metadata": {
    "ExecuteTime": {
     "end_time": "2025-08-28T12:28:13.692735Z",
     "start_time": "2025-08-28T12:28:13.686924Z"
    }
   },
   "source": [
    "# Weise`import_file` den Namen der Datei zu\n",
    "import_file = \"allow_list.txt\"\n",
    "\n",
    "# Weise`remove_list` eine Liste von IP-Adressen zu, die nicht mehr auf eingeschränkte Informationen zugreifen dürfen.\n",
    "remove_list = [\"192.168.97.225\", \"192.168.158.170\", \"192.168.201.40\", \"192.168.58.57\"]\n",
    "\n",
    "# Zeige `import_file` an\n",
    "print(import_file)\n",
    "\n",
    "# Zeige `remove_list` an\n",
    "print(remove_list)"
   ],
   "id": "81fc9116cb21de72",
   "outputs": [
    {
     "name": "stdout",
     "output_type": "stream",
     "text": [
      "allow_list.txt\n",
      "['192.168.97.225', '192.168.158.170', '192.168.201.40', '192.168.58.57']\n"
     ]
    }
   ],
   "execution_count": 1
  },
  {
   "cell_type": "markdown",
   "metadata": {},
   "source": [
    "### Frage 1\n",
    "Was fällt dir bei der Ausgabe oben auf?\n",
    "### Antwort 1\n",
    "Dass bei der „import_file“-Namenszuweisung kein „Import“ vorliegt, wird durch die Anzeige des Dateinamens und nicht einer Liste bei „print(import_file)“ bestätigt."
   ],
   "id": "d0f9ee44a21136ff"
  },
  {
   "cell_type": "markdown",
   "metadata": {},
   "source": [
    "## Aufgabe 2\n",
    "\n",
    "Beginne diese Aufgabe, indem du die Textdatei mit der Variable import_file, dem Schlüsselwort with und der Funktion open() mit dem Parameter \"r\" öffnest. Ersetze ### YOUR CODE HERE ### durch deinen eigenen Code.\n",
    "\n",
    "Für den Anfang wirst du die erste Zeile der with-Anweisung schreiben. Das Ausführen dieses Codes wird einen Fehler verursachen, da es nur die erste Zeile der with-Anweisung enthalten wird; du wirst diese with-Anweisung in der nächsten Aufgabe vervollständigen."
   ],
   "id": "bb487fe29b9da889"
  },
  {
   "cell_type": "code",
   "metadata": {
    "ExecuteTime": {
     "end_time": "2025-08-28T12:34:43.822262Z",
     "start_time": "2025-08-28T12:34:43.818120Z"
    }
   },
   "source": [
    "# Weise`import_file` den Namen der Datei zu\n",
    "import_file=\"allow_list.txt\"\n",
    "\n",
    "# Weise`remove_list` eine Liste von IP-Adressen zu, die nicht mehr auf eingeschränkte Informationen zugreifen dürfen.\n",
    "remove_list = [\"192.168.97.225\", \"192.168.158.170\", \"192.168.201.40\", \"192.168.58.57\"]\n",
    "\n",
    "# Erste Zeile der `with`-Anweisung\n",
    "with open(import_file, \"r\") as file:"
   ],
   "id": "a46f5e5b4eec283f",
   "outputs": [
    {
     "ename": "_IncompleteInputError",
     "evalue": "incomplete input (2847606937.py, line 8)",
     "output_type": "error",
     "traceback": [
      "  \u001B[36mCell\u001B[39m\u001B[36m \u001B[39m\u001B[32mIn[3]\u001B[39m\u001B[32m, line 8\u001B[39m\n\u001B[31m    \u001B[39m\u001B[31mwith open(import_file, \"r\") as file:\u001B[39m\n                                        ^\n\u001B[31m_IncompleteInputError\u001B[39m\u001B[31m:\u001B[39m incomplete input\n"
     ]
    }
   ],
   "execution_count": 3
  },
  {
   "cell_type": "markdown",
   "metadata": {},
   "source": [
    "## Aufgabe 3\n",
    "\n",
    "Nun verwende die Methode .read(), um die importierte Datei zu lesen und in einer Variable namens ip_addresses zu speichern.\n",
    "\n",
    "Danach zeige ip_addresses an, um die Daten in ihrem aktuellen Format zu überprüfen.\n",
    "\n",
    "Achte darauf, jede ### YOUR CODE HERE ### durch deinen eigenen Code zu ersetzen, bevor du die folgende Zelle ausführst."
   ],
   "id": "f26de2684e6202c8"
  },
  {
   "cell_type": "code",
   "metadata": {
    "ExecuteTime": {
     "end_time": "2025-08-28T12:37:20.644950Z",
     "start_time": "2025-08-28T12:37:20.640588Z"
    }
   },
   "source": [
    "# Weise`import_file` den Namen der Datei zu\n",
    "import_file = \"allow_list.txt\"\n",
    "\n",
    "# Weise`remove_list` eine Liste von IP-Adressen zu, die nicht mehr auf eingeschränkte Informationen zugreifen dürfen.\n",
    "remove_list =[\"192.168.97.225\", \"192.168.158.170\", \"192.168.201.40\", \"192.168.58.57\"]\n",
    "\n",
    "# Baue die `with`-Anweisung, um den anfänglichen Inhalt der Datei zu lesen\n",
    "with open(import_file, \"r\") as file:\n",
    "\n",
    "# Verwende `.read()`, um die importierte Datei zu lesen und in einer Variable namens `ip_addresses` zu speichern\n",
    "    ip_addresses = file.read()\n",
    "\n",
    "# Zeige `ip_addresses` an\n",
    "print(ip_addresses)"
   ],
   "id": "7b76d03bc9a46ce8",
   "outputs": [
    {
     "name": "stdout",
     "output_type": "stream",
     "text": [
      "ip_address\n",
      "192.168.25.60\n",
      "192.168.205.12\n",
      "192.168.97.225\n",
      "192.168.6.9\n",
      "192.168.52.90\n",
      "192.168.158.170\n",
      "192.168.90.124\n",
      "192.168.186.176\n",
      "192.168.133.188\n",
      "192.168.203.198\n",
      "192.168.201.40\n",
      "192.168.218.219\n",
      "192.168.52.37\n",
      "192.168.156.224\n",
      "192.168.60.153\n",
      "192.168.58.57\n",
      "192.168.69.116\n",
      "\n"
     ]
    }
   ],
   "execution_count": 4
  },
  {
   "cell_type": "markdown",
   "metadata": {},
   "source": [
    "### Frage 2\n",
    "Gibt es IP-Adressen in der Erlauben-Liste, die auch in der remove_list enthalten sind?\n",
    "### Antwort 2\n",
    "Ja, weil sie noch nicht entfernt wurden."
   ],
   "id": "4e1a6510496bfeb1"
  },
  {
   "cell_type": "markdown",
   "metadata": {},
   "source": [
    "## Aufgabe 4\n",
    "\n",
    "Nach dem Lesen der Datei weise der Variable ip_addresses eine neue Datentypzuweisung zu, indem du den .split()-Methode verwendest. Dieser Schritt ermöglicht es dir, durch jede der IP-Adressen in der Erlauben-Liste zu iterieren, anstatt eine große Zeichenkette zu navigieren, die alle Adressen zusammengefasst enthält.\n",
    "\n",
    "Danach zeige die Variable ip_addresses an, um zu überprüfen, ob die Aktualisierung stattgefunden hat.\n",
    "\n",
    "Achte darauf, jede ### YOUR CODE HERE ### durch deinen eigenen Code zu ersetzen, bevor du die folgende Zelle ausführst."
   ],
   "id": "a459f03fc618d5d3"
  },
  {
   "cell_type": "code",
   "metadata": {
    "ExecuteTime": {
     "end_time": "2025-08-28T12:46:04.366229Z",
     "start_time": "2025-08-28T12:46:04.362972Z"
    }
   },
   "source": [
    "# Weise`import_file` den Namen der Datei zu\n",
    "import_file=\"allow_list.txt\"\n",
    "\n",
    "# Weise`remove_list` eine Liste von IP-Adressen zu, die nicht mehr auf eingeschränkte Informationen zugreifen dürfen.\n",
    "remove_list = [\"192.168.97.225\", \"192.168.158.170\", \"192.168.201.40\", \"192.168.58.57\"]\n",
    "\n",
    "# Baue die `with`-Anweisung, um den anfänglichen Inhalt der Datei zu lesen\n",
    "with open(import_file, \"r\") as file:\n",
    "# Verwende `.read()`, um die importierte Datei zu lesen und in einer Variable namens `ip_addresses` zu speichern\n",
    "    ip_addresses = file.read()\n",
    "\n",
    "# Verwende `.split()`, um `ip_addresses` von einer Zeichenkette in eine Liste zu konvertieren\n",
    "ip_addresses = ip_addresses.split(\"\\n\")\n",
    "\n",
    "# Zeige `ip_addresses` an\n",
    "print(ip_addresses)"
   ],
   "id": "d73967642dd58f98",
   "outputs": [
    {
     "name": "stdout",
     "output_type": "stream",
     "text": [
      "['192.168.25.60', '192.168.205.12', '192.168.97.225', '192.168.6.9', '192.168.52.90', '192.168.158.170', '192.168.90.124', '192.168.186.176', '192.168.133.188', '192.168.203.198', '192.168.201.40', '192.168.218.219', '192.168.52.37', '192.168.156.224', '192.168.60.153', '192.168.58.57', '192.168.69.116']\n"
     ]
    }
   ],
   "execution_count": 7
  },
  {
   "cell_type": "markdown",
   "metadata": {},
   "source": [
    "## Aufgabe 5\n",
    "\n",
    "Nun wirst du Code schreiben, der die Elemente von remove_list aus der Liste ip_addresses entfernt. Dies erfordert sowohl eine iterative Anweisung als auch eine bedingte Anweisung.\n",
    "\n",
    "Zuerst baue die iterative Anweisung. Benenne die Schleifenvariable element, durchlaufe ip_addresses und zeige jedes Element an. Achte darauf, jede ### YOUR CODE HERE ### durch deinen eigenen Code zu ersetzen, bevor du die folgende Zelle ausführst."
   ],
   "id": "2a4f1f3ff5c8d90"
  },
  {
   "cell_type": "code",
   "metadata": {
    "ExecuteTime": {
     "end_time": "2025-08-28T12:47:54.158864Z",
     "start_time": "2025-08-28T12:47:54.155385Z"
    }
   },
   "source": [
    "# Weise`import_file` den Namen der Datei zu\n",
    "import_file=\"allow_list.txt\"\n",
    "\n",
    "# Weise`remove_list` eine Liste von IP-Adressen zu, die nicht mehr auf eingeschränkte Informationen zugreifen dürfen.\n",
    "remove_list = [\"192.168.97.225\", \"192.168.158.170\", \"192.168.201.40\", \"192.168.58.57\"]\n",
    "\n",
    "# Baue die `with`-Anweisung, um den anfänglichen Inhalt der Datei zu lesen\n",
    "with open(import_file, \"r\") as file:\n",
    "# Verwende `.read()`, um die importierte Datei zu lesen und in einer Variable namens `ip_addresses` zu speichern\n",
    "    ip_addresses = file.read()\n",
    "\n",
    "# Verwende `.split()`, um `ip_addresses` von einer Zeichenkette in eine Liste zu konvertieren\n",
    "ip_addresses = ip_addresses.split()\n",
    "\n",
    "# Baue die iterative Anweisung\n",
    "# Benenne die Schleifenvariable `element`\n",
    "# Durchlaufe `ip_addresses`\n",
    "for element in ip_addresses:\n",
    "\n",
    "# Zeige `element` in jeder Iteration an\n",
    "    print(element)"
   ],
   "id": "882671363c62779",
   "outputs": [
    {
     "name": "stdout",
     "output_type": "stream",
     "text": [
      "192.168.25.60\n",
      "192.168.205.12\n",
      "192.168.97.225\n",
      "192.168.6.9\n",
      "192.168.52.90\n",
      "192.168.158.170\n",
      "192.168.90.124\n",
      "192.168.186.176\n",
      "192.168.133.188\n",
      "192.168.203.198\n",
      "192.168.201.40\n",
      "192.168.218.219\n",
      "192.168.52.37\n",
      "192.168.156.224\n",
      "192.168.60.153\n",
      "192.168.58.57\n",
      "192.168.69.116\n"
     ]
    }
   ],
   "execution_count": 8
  },
  {
   "cell_type": "markdown",
   "metadata": {},
   "source": [
    "## Aufgabe 6\n",
    "\n",
    "Baue nun eine bedingte Anweisung, um die Elemente von remove_list aus der Liste ip_addresses zu entfernen. Die bedingte Anweisung sollte innerhalb der iterativen Anweisung platziert werden, die durch ip_addresses schleift. In jeder Iteration, wenn das aktuelle Element in der Liste ip_addresses in der remove_list enthalten ist, sollte die Methode remove() verwendet werden, um dieses Element zu entfernen.\n",
    "\n",
    "Danach zeige die aktualisierte Liste ip_addresses an, um zu überprüfen, ob die Elemente aus der remove_list nicht mehr in ip_addresses enthalten sind. Achte darauf, jede ### YOUR CODE HERE ### durch deinen eigenen Code zu ersetzen, bevor du die folgende Zelle ausführst."
   ],
   "id": "211151c0fc7ca6b4"
  },
  {
   "cell_type": "code",
   "metadata": {
    "ExecuteTime": {
     "end_time": "2025-08-28T14:00:51.709043Z",
     "start_time": "2025-08-28T14:00:51.705182Z"
    }
   },
   "source": [
    "# Weise`import_file` den Namen der Datei zu\n",
    "import_file=\"allow_list.txt\"\n",
    "\n",
    "# Weise`remove_list` eine Liste von IP-Adressen zu, die nicht mehr auf eingeschränkte Informationen zugreifen dürfen.\n",
    "remove_list = [\"192.168.97.225\", \"192.168.158.170\", \"192.168.201.40\", \"192.168.58.57\"]\n",
    "\n",
    "# Baue die `with`-Anweisung, um den anfänglichen Inhalt der Datei zu lesen\n",
    "with open(import_file, \"r\") as file:\n",
    "# Verwende `.read()`, um die importierte Datei zu lesen und in einer Variable namens `ip_addresses` zu speichern\n",
    "    ip_addresses = file.read()\n",
    "\n",
    "# Verwende `.split()`, um `ip_addresses` von einer Zeichenkette in eine Liste zu konvertieren\n",
    "ip_addresses = ip_addresses.split()\n",
    "\n",
    "# Baue die iterative Anweisung\n",
    "# Benenne die Schleifenvariable `element`\n",
    "# Durchlaufe `ip_addresses`\n",
    "for element in ip_addresses:\n",
    "# Baue die bedingte Anweisung\n",
    "# Wenn das aktuelle Element in `remove_list` enthalten ist,\n",
    "    if element in remove_list:\n",
    "        # dann sollte das aktuelle Element aus `ip_addresses` entfernt werden\n",
    "        ip_addresses.remove(element)\n",
    "\n",
    "# Zeige `ip_addresses` an\n",
    "print(ip_addresses)"
   ],
   "id": "ffca425ed759350a",
   "outputs": [
    {
     "name": "stdout",
     "output_type": "stream",
     "text": [
      "['192.168.25.60', '192.168.205.12', '192.168.6.9', '192.168.52.90', '192.168.90.124', '192.168.186.176', '192.168.133.188', '192.168.203.198', '192.168.218.219', '192.168.52.37', '192.168.156.224', '192.168.60.153', '192.168.69.116']\n"
     ]
    }
   ],
   "execution_count": 19
  },
  {
   "cell_type": "markdown",
   "metadata": {},
   "source": [
    "## Aufgabe 7\n",
    "\n",
    "Der nächste Schritt besteht darin, die ursprüngliche Datei zu aktualisieren, die zur Erstellung der Liste ip_addresses verwendet wurde. Eine Codezeile mit der Methode .join() wurde dem Code hinzugefügt, um die Datei aktualisieren zu können. Dies ist notwendig, da ip_addresses im String-Format vorliegen muss, wenn sie innerhalb der with-Anweisung zum Überschreiben der Datei verwendet wird.\n",
    "\n",
    "Die Methode .join() nimmt ein Iterable (wie eine Liste) und verknüpft jedes Element zu einem String. Die Methode .join() wird auf einen String angewendet, der das Zeichen enthält, das zum Trennen jedes Elements im Iterable verwendet wird, nachdem es in einen String konvertiert wurde. Im folgenden Code wird die Methode auf den String \" \" angewendet, der nur ein Leerzeichen enthält. Das Argument der Methode .join() ist das Iterable, das du konvertieren möchtest, und in diesem Fall ist das ip_addresses. Das Ergebnis ist, dass ip_addresses von einer Liste zurück in einen String mit einem Leerzeichen zwischen jedem Element und dem nächsten konvertiert wird.\n",
    "\n",
    "Nach dieser Zeile mit der Methode .join() baue die with-Anweisung, die die ursprüngliche Datei neu schreibt. Verwende den Parameter \"w\", wenn du die Funktion open() aufrufst, um den Inhalt der ursprünglichen Datei zu löschen und durch das zu ersetzen, was du schreiben möchtest. Achte darauf, jede ### YOUR CODE HERE ### durch deinen eigenen Code zu ersetzen, bevor du die folgende Zelle ausführst. Diese Code-Zelle wird keine Ausgabe erzeugen."
   ],
   "id": "38fb8a9189627801"
  },
  {
   "cell_type": "code",
   "metadata": {
    "ExecuteTime": {
     "end_time": "2025-08-28T14:13:29.143222Z",
     "start_time": "2025-08-28T14:13:29.138698Z"
    }
   },
   "source": [
    "# Weise`import_file` den Namen der Datei zu\n",
    "import_file = \"allow_list.txt\"\n",
    "\n",
    "# Weise`remove_list` eine Liste von IP-Adressen zu, die nicht mehr auf eingeschränkte Informationen zugreifen dürfen.\n",
    "remove_list = [\"192.168.97.225\", \"192.168.158.170\", \"192.168.201.40\", \"192.168.58.57\"]\n",
    "\n",
    "# Baue die `with`-Anweisung, um den anfänglichen Inhalt der Datei zu lesen\n",
    "with open(import_file, \"r\") as file:\n",
    "# Verwende `.read()`, um die importierte Datei zu lesen und in einer Variable namens `ip_addresses` zu speichern\n",
    "    ip_addresses = file.read()\n",
    "\n",
    "# Verwende `.split()`, um `ip_addresses` von einer Zeichenkette in eine Liste zu konvertieren\n",
    "ip_addresses = ip_addresses.split()\n",
    "\n",
    "# Baue die iterative Anweisung\n",
    "# Benenne die Schleifenvariable `element`\n",
    "# Durchlaufe `ip_addresses`\n",
    "for element in ip_addresses:\n",
    "# Baue die bedingte Anweisung\n",
    "# Wenn das aktuelle Element in `remove_list` enthalten ist,\n",
    "    if element in remove_list:\n",
    "# dann sollte das aktuelle Element aus `ip_addresses` entfernt werden\n",
    "        ip_addresses.remove(element)\n",
    "\n",
    "# Konvertiere `ip_addresses` zurück in einen String, damit es in die Textdatei geschrieben werden kann\n",
    "ip_addresses = \"\\n\".join(ip_addresses)\n",
    "\n",
    "# Baue die `with`-Anweisung, um die ursprüngliche Datei neu zu schreiben\n",
    "with open(import_file, \"w\") as file:\n",
    "\n",
    "# Schreibe die Datei neu und ersetze ihren Inhalt mit `ip_addresses`\n",
    "    file.write(ip_addresses)"
   ],
   "id": "eb7378973f4a79fa",
   "outputs": [],
   "execution_count": 24
  },
  {
   "cell_type": "markdown",
   "metadata": {},
   "source": [
    "## Aufgabe 8\n",
    "\n",
    "In dieser Aufgabe überprüfst du, ob die ursprüngliche Datei mit der richtigen Liste überschrieben wurde.\n",
    "\n",
    "Schreibe eine weitere with-Anweisung, diesmal um die aktualisierte Datei zu lesen. Beginne damit, die Datei zu öffnen. Lese dann die Datei und speichere ihren Inhalt in der Variable text.\n",
    "\n",
    "Danach zeige die Variable text an, um das Ergebnis zu überprüfen.\n",
    "\n",
    "Achte darauf, jede ### YOUR CODE HERE ### durch deinen eigenen Code zu ersetzen, bevor du die folgende Zelle ausführst."
   ],
   "id": "b31127568fa6fdee"
  },
  {
   "cell_type": "code",
   "metadata": {
    "ExecuteTime": {
     "end_time": "2025-08-28T14:15:29.837922Z",
     "start_time": "2025-08-28T14:15:29.826408Z"
    }
   },
   "source": [
    "# Weise`import_file` den Namen der Datei zu\n",
    "import_file = \"allow_list.txt\"\n",
    "\n",
    "# Weise`remove_list` eine Liste von IP-Adressen zu, die nicht mehr auf eingeschränkte Informationen zugreifen dürfen.\n",
    "remove_list =[\"192.168.97.225\", \"192.168.158.170\", \"192.168.201.40\", \"192.168.58.57\"]\n",
    "\n",
    "# Baue die `with`-Anweisung, um den anfänglichen Inhalt der Datei zu lesen\n",
    "with open(import_file, \"r\") as file:\n",
    "\n",
    "# Verwende `.read()`, um die importierte Datei zu lesen und in einer Variable namens `ip_addresses` zu speichern\n",
    "    ip_addresses = file.read()\n",
    "\n",
    "# Verwende `.split()`, um `ip_addresses` von einer Zeichenkette in eine Liste zu konvertieren\n",
    "ip_addresses = ip_addresses.split()\n",
    "\n",
    "# Baue die iterative Anweisung\n",
    "# Benenne die Schleifenvariable `element`\n",
    "# Durchlaufe `ip_addresses`\n",
    "for element in ip_addresses:\n",
    "# Baue die bedingte Anweisung\n",
    "# Wenn das aktuelle Element in `remove_list` enthalten ist,\n",
    "    if element in remove_list:\n",
    "        # dann sollte das aktuelle Element aus `ip_addresses` entfernt werden\n",
    "        ip_addresses.remove(element)\n",
    "\n",
    "# Konvertiere `ip_addresses` zurück in einen String, damit es in die Textdatei geschrieben werden kann\n",
    "ip_addresses = \" \".join(ip_addresses)\n",
    "\n",
    "# Baue die `with`-Anweisung, um die ursprüngliche Datei neu zu schreiben\n",
    "with open(import_file, \"w\") as file:\n",
    "# Schreibe die Datei neu und ersetze ihren Inhalt mit `ip_addresses`\n",
    "    file.write(ip_addresses)\n",
    "\n",
    "# Baue die `with`-Anweisung, um die aktualisierte Datei zu lesen\n",
    "with open(import_file, \"r\") as file:\n",
    "    # Lese die aktualisierte Datei und speichere den Inhalt in `text`\n",
    "    text = file.read()\n",
    "\n",
    "# Zeige den Inhalt von `text` an\n",
    "print(text)"
   ],
   "id": "df4328ee8ed4ca09",
   "outputs": [
    {
     "name": "stdout",
     "output_type": "stream",
     "text": [
      "192.168.25.60 192.168.205.12 192.168.6.9 192.168.52.90 192.168.90.124 192.168.186.176 192.168.133.188 192.168.203.198 192.168.218.219 192.168.52.37 192.168.156.224 192.168.60.153 192.168.69.116\n"
     ]
    }
   ],
   "execution_count": 25
  },
  {
   "cell_type": "markdown",
   "metadata": {},
   "source": [
    "## Aufgabe 9\n",
    "\n",
    "Der nächste Schritt besteht darin, allen Code, den du bis zu diesem Punkt geschrieben hast, in eine einzige Funktion zu integrieren.\n",
    "\n",
    "Definiere eine Funktion namens update_file(), die zwei Parameter entgegennimmt. Der erste Parameter ist der Name der Textdatei, die IP-Adressen enthält (nenne diesen Parameter import_file). Der zweite Parameter ist eine Liste, die IP-Adressen enthält, die entfernt werden sollen (nenne diesen Parameter remove_list).\n",
    "\n",
    "Achte darauf, jede ### YOUR CODE HERE ### durch deinen eigenen Code zu ersetzen, bevor du die folgende Zelle ausführst. Beachte, dass diese Code-Zelle keine Ausgabe erzeugen wird."
   ],
   "id": "5f126eac020b2072"
  },
  {
   "cell_type": "code",
   "metadata": {
    "ExecuteTime": {
     "end_time": "2025-08-28T14:36:07.216459Z",
     "start_time": "2025-08-28T14:36:07.212996Z"
    }
   },
   "source": [
    "# Definiere eine Funktion namens `update_file`, die zwei Parameter entgegennimmt: `import_file` und `remove_list`\n",
    "# und kombiniere die Schritte, die du in diesem Labor bis zu diesem Punkt geschrieben hast\n",
    "def update_file(import_file, remove_list):\n",
    "\n",
    "    # Baue die `with`-Anweisung, um den anfänglichen Inhalt der Datei zu lesen\n",
    "    with open(import_file, \"r\") as file:\n",
    "\n",
    "        # Verwende `.read()`, um die importierte Datei zu lesen und in einer Variable namens `ip_addresses` zu speichern\n",
    "        ip_addresses = file.read()\n",
    "\n",
    "        # Verwende `.split()`, um `ip_addresses` von einer Zeichenkette in eine Liste zu konvertieren\n",
    "        ip_addresses = ip_addresses.split()\n",
    "\n",
    "        # Baue die iterative Anweisung\n",
    "        # Benenne die Schleifenvariable `element`\n",
    "        # Durchlaufe `ip_addresses`\n",
    "        for element in ip_addresses:\n",
    "            # Baue die bedingte Anweisung\n",
    "            # Wenn das aktuelle Element in `remove_list` enthalten ist,\n",
    "            if element in remove_list:\n",
    "                # dann sollte das aktuelle Element aus `ip_addresses` entfernt werden\n",
    "                ip_addresses.remove(element)\n",
    "\n",
    "        # Konvertiere `ip_addresses` zurück in einen String, damit es in die Textdatei geschrieben werden kann\n",
    "        ip_addresses = \"\\n\".join(ip_addresses)\n",
    "\n",
    "        # Baue die `with`-Anweisung, um die ursprüngliche Datei neu zu schreiben\n",
    "        with open(import_file, \"w\") as file:\n",
    "\n",
    "            # Schreibe die Datei neu und ersetze ihren Inhalt mit `ip_addresses`\n",
    "            file.write(ip_addresses)"
   ],
   "id": "c51cd637ffce257f",
   "outputs": [],
   "execution_count": 32
  },
  {
   "cell_type": "markdown",
   "metadata": {},
   "source": [
    "### Frage 3\n",
    "Was sind die Vorteile, die der Algorithmus in einer einzigen Funktion zu integrieren?\n",
    "### Antwort 3\n",
    "Statt mehrere Schritte aufzubauen, kann man ein einziger Funktionsaufruf machen, und so für mehrere Datein das Funktion benutzen. Das macht weniger Wiederholung im Code und Kaspelt die Logik dahinter."
   ],
   "id": "a8fe658a66c34d61"
  },
  {
   "cell_type": "markdown",
   "metadata": {},
   "source": [
    "## Aufgabe 10\n",
    "\n",
    "Rufe schließlich die Funktion update_file() auf, die du definiert hast. Wende die Funktion auf \"allow_list.txt\" an und übergebe eine Liste von IP-Adressen als zweiten Parameter.\n",
    "\n",
    "Verwende die folgende Liste von IP-Adressen als zweiten Parameter:\n",
    "[\"192.168.25.60\", \"192.168.140.81\", \"192.168.203.198\"]\n",
    "\n",
    "Nach dem Funktionsaufruf verwende eine with-Anweisung, um die Inhalte der erlaubten Liste zu lesen. Zeige dann die Inhalte der erlaubten Liste an. Führe den Code aus, um zu überprüfen, ob die Datei von der Funktion aktualisiert wurde.\n",
    "\n",
    "Achte darauf, jede ### YOUR CODE HERE ### durch deinen eigenen Code zu ersetzen, bevor du die folgende Zelle ausführst."
   ],
   "id": "4a2bb39337d5eb09"
  },
  {
   "cell_type": "code",
   "metadata": {
    "ExecuteTime": {
     "end_time": "2025-08-28T14:37:45.977870Z",
     "start_time": "2025-08-28T14:37:45.972480Z"
    }
   },
   "source": [
    "# Definiere eine Funktion namens `update_file`, die zwei Parameter entgegennimmt: `import_file` und `remove_list`\n",
    "# und kombiniere die Schritte, die du in diesem Labor bis zu diesem Punkt geschrieben hast\n",
    "def update_file(import_file, remove_list):\n",
    "\n",
    "  # Baue die `with`-Anweisung, um den anfänglichen Inhalt der Datei zu lesen\n",
    "  with open(import_file, \"r\") as file:\n",
    "\n",
    "    # Verwende `.read()`, um die importierte Datei zu lesen und in einer Variable namens `ip_addresses` zu speichern\n",
    "    ip_addresses = file.read()\n",
    "\n",
    "  # Verwende `.split()`, um `ip_addresses` von einer Zeichenkette in eine Liste zu konvertieren\n",
    "  ip_addresses = ip_addresses.split()\n",
    "\n",
    "  # Baue die iterative Anweisung\n",
    "  # Benenne die Schleifenvariable `element`\n",
    "  # Durchlaufe `ip_addresses`\n",
    "  for element in ip_addresses:\n",
    "\n",
    "    # Baue die bedingte Anweisung\n",
    "    # Wenn das aktuelle Element in `remove_list` enthalten ist,\n",
    "    if element in remove_list:\n",
    "\n",
    "      # dann sollte das aktuelle Element aus `ip_addresses` entfernt werden\n",
    "      ip_addresses.remove(element)\n",
    "\n",
    "  # Konvertiere `ip_addresses` zurück in einen String, damit es in die Textdatei geschrieben werden kann\n",
    "  ip_addresses = \"\\n\".join(ip_addresses)\n",
    "\n",
    "  # Baue die `with`-Anweisung, um die ursprüngliche Datei neu zu schreiben\n",
    "  with open(import_file, \"w\") as file:\n",
    "\n",
    "    # Schreibe die Datei neu und ersetze ihren Inhalt mit `ip_addresses`\n",
    "    file.write(ip_addresses)\n",
    "\n",
    "# Rufe `update_file()` auf und übergebe \"allow_list.txt\" und eine Liste von IP-Adressen, die entfernt werden sollen\n",
    "update_file(\"allow_list.txt\", [\"192.168.25.60\", \"192.168.140.81\", \"192.168.203.198\"])\n",
    "\n",
    "# Baue die `with`-Anweisung, um die aktualisierte Datei zu lesen\n",
    "with open(\"allow_list.txt\", \"r\") as file:\n",
    "  # Lese die aktualisierte Datei und speichere den Inhalt in `text`\n",
    "  text = file.read()\n",
    "\n",
    "# Zeige den Inhalt von `text` an\n",
    "print(text)\n"
   ],
   "id": "e337056dda8dfc3f",
   "outputs": [
    {
     "name": "stdout",
     "output_type": "stream",
     "text": [
      "192.168.205.12\n",
      "192.168.97.225\n",
      "192.168.6.9\n",
      "192.168.52.90\n",
      "192.168.158.170\n",
      "192.168.90.124\n",
      "192.168.186.176\n",
      "192.168.133.188\n",
      "192.168.201.40\n",
      "192.168.218.219\n",
      "192.168.52.37\n",
      "192.168.156.224\n",
      "192.168.60.153\n",
      "192.168.58.57\n",
      "192.168.69.116\n"
     ]
    }
   ],
   "execution_count": 37
  },
  {
   "metadata": {},
   "cell_type": "code",
   "outputs": [],
   "execution_count": null,
   "source": "",
   "id": "e965f8a37c076a2b"
  }
 ],
 "metadata": {
  "kernelspec": {
   "name": "python3",
   "language": "python",
   "display_name": "Python 3 (ipykernel)"
  }
 }
}
